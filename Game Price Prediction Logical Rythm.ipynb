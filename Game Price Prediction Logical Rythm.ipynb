{
 "cells": [
  {
   "cell_type": "code",
   "execution_count": 422,
   "metadata": {},
   "outputs": [],
   "source": [
    "import pandas as pd\n",
    "import numpy as np\n",
    "import matplotlib.pyplot as plt\n",
    "from sklearn.preprocessing import LabelEncoder"
   ]
  },
  {
   "cell_type": "code",
   "execution_count": 423,
   "metadata": {},
   "outputs": [],
   "source": [
    "df_train = pd.read_csv('logical-rythm-2k20-game-price-prediction/steam_train.csv')\n",
    "df_test = pd.read_csv('logical-rythm-2k20-game-price-prediction/steam_test.csv')"
   ]
  },
  {
   "cell_type": "code",
   "execution_count": 424,
   "metadata": {},
   "outputs": [
    {
     "data": {
      "text/html": [
       "<div>\n",
       "<style scoped>\n",
       "    .dataframe tbody tr th:only-of-type {\n",
       "        vertical-align: middle;\n",
       "    }\n",
       "\n",
       "    .dataframe tbody tr th {\n",
       "        vertical-align: top;\n",
       "    }\n",
       "\n",
       "    .dataframe thead th {\n",
       "        text-align: right;\n",
       "    }\n",
       "</style>\n",
       "<table border=\"1\" class=\"dataframe\">\n",
       "  <thead>\n",
       "    <tr style=\"text-align: right;\">\n",
       "      <th></th>\n",
       "      <th>appid</th>\n",
       "      <th>name</th>\n",
       "      <th>release_date</th>\n",
       "      <th>english</th>\n",
       "      <th>developer</th>\n",
       "      <th>publisher</th>\n",
       "      <th>platforms</th>\n",
       "      <th>required_age</th>\n",
       "      <th>categories</th>\n",
       "      <th>genres</th>\n",
       "      <th>steamspy_tags</th>\n",
       "      <th>achievements</th>\n",
       "      <th>positive_ratings</th>\n",
       "      <th>negative_ratings</th>\n",
       "      <th>average_playtime</th>\n",
       "      <th>median_playtime</th>\n",
       "      <th>owners</th>\n",
       "      <th>price</th>\n",
       "    </tr>\n",
       "  </thead>\n",
       "  <tbody>\n",
       "    <tr>\n",
       "      <td>0</td>\n",
       "      <td>708830</td>\n",
       "      <td>The Armament Project</td>\n",
       "      <td>2017-09-28</td>\n",
       "      <td>1</td>\n",
       "      <td>DysTop</td>\n",
       "      <td>DysTop</td>\n",
       "      <td>windows</td>\n",
       "      <td>0</td>\n",
       "      <td>Single-player;Partial Controller Support</td>\n",
       "      <td>Action;Indie</td>\n",
       "      <td>Action;Indie;Space</td>\n",
       "      <td>0</td>\n",
       "      <td>2</td>\n",
       "      <td>2</td>\n",
       "      <td>0</td>\n",
       "      <td>0</td>\n",
       "      <td>0-20000</td>\n",
       "      <td>2.89</td>\n",
       "    </tr>\n",
       "    <tr>\n",
       "      <td>1</td>\n",
       "      <td>538000</td>\n",
       "      <td>Hop Step Sing! Kisekiteki Shining! (HQ Edition)</td>\n",
       "      <td>2017-06-29</td>\n",
       "      <td>1</td>\n",
       "      <td>Kodansha;Polygon Pictures Inc.;Lantis</td>\n",
       "      <td>Degica</td>\n",
       "      <td>windows</td>\n",
       "      <td>0</td>\n",
       "      <td>Single-player;Partial Controller Support</td>\n",
       "      <td>Casual</td>\n",
       "      <td>Casual;VR;Anime</td>\n",
       "      <td>0</td>\n",
       "      <td>30</td>\n",
       "      <td>4</td>\n",
       "      <td>0</td>\n",
       "      <td>0</td>\n",
       "      <td>0-20000</td>\n",
       "      <td>3.99</td>\n",
       "    </tr>\n",
       "    <tr>\n",
       "      <td>2</td>\n",
       "      <td>603530</td>\n",
       "      <td>A Robot Named Fight!</td>\n",
       "      <td>2017-09-07</td>\n",
       "      <td>1</td>\n",
       "      <td>Matt Bitner Games</td>\n",
       "      <td>Matt Bitner Games</td>\n",
       "      <td>windows;mac;linux</td>\n",
       "      <td>0</td>\n",
       "      <td>Single-player;Local Co-op;Shared/Split Screen;...</td>\n",
       "      <td>Violent;Gore;Action;Indie</td>\n",
       "      <td>Action;Metroidvania;Indie</td>\n",
       "      <td>60</td>\n",
       "      <td>271</td>\n",
       "      <td>30</td>\n",
       "      <td>279</td>\n",
       "      <td>279</td>\n",
       "      <td>20000-50000</td>\n",
       "      <td>10.29</td>\n",
       "    </tr>\n",
       "    <tr>\n",
       "      <td>3</td>\n",
       "      <td>564040</td>\n",
       "      <td>ZANGEKI WARP</td>\n",
       "      <td>2017-02-15</td>\n",
       "      <td>1</td>\n",
       "      <td>ASTRO PORT</td>\n",
       "      <td>Nyu Media</td>\n",
       "      <td>windows;linux</td>\n",
       "      <td>0</td>\n",
       "      <td>Single-player;Steam Achievements;Steam Trading...</td>\n",
       "      <td>Action;Indie</td>\n",
       "      <td>Action;Indie;Shoot 'Em Up</td>\n",
       "      <td>53</td>\n",
       "      <td>16</td>\n",
       "      <td>0</td>\n",
       "      <td>0</td>\n",
       "      <td>0</td>\n",
       "      <td>0-20000</td>\n",
       "      <td>4.79</td>\n",
       "    </tr>\n",
       "    <tr>\n",
       "      <td>4</td>\n",
       "      <td>951940</td>\n",
       "      <td>Almost There: The Platformer</td>\n",
       "      <td>2019-02-19</td>\n",
       "      <td>1</td>\n",
       "      <td>Bony Yousuf</td>\n",
       "      <td>The Quantum Astrophysicists Guild</td>\n",
       "      <td>windows;mac;linux</td>\n",
       "      <td>0</td>\n",
       "      <td>Single-player;Steam Achievements;Full controll...</td>\n",
       "      <td>Action;Casual;Indie;Strategy</td>\n",
       "      <td>Indie;Action;Casual</td>\n",
       "      <td>24</td>\n",
       "      <td>29</td>\n",
       "      <td>1</td>\n",
       "      <td>0</td>\n",
       "      <td>0</td>\n",
       "      <td>0-20000</td>\n",
       "      <td>7.19</td>\n",
       "    </tr>\n",
       "  </tbody>\n",
       "</table>\n",
       "</div>"
      ],
      "text/plain": [
       "    appid                                             name release_date  \\\n",
       "0  708830                             The Armament Project   2017-09-28   \n",
       "1  538000  Hop Step Sing! Kisekiteki Shining! (HQ Edition)   2017-06-29   \n",
       "2  603530                             A Robot Named Fight!   2017-09-07   \n",
       "3  564040                                     ZANGEKI WARP   2017-02-15   \n",
       "4  951940                     Almost There: The Platformer   2019-02-19   \n",
       "\n",
       "   english                              developer  \\\n",
       "0        1                                 DysTop   \n",
       "1        1  Kodansha;Polygon Pictures Inc.;Lantis   \n",
       "2        1                      Matt Bitner Games   \n",
       "3        1                             ASTRO PORT   \n",
       "4        1                            Bony Yousuf   \n",
       "\n",
       "                           publisher          platforms  required_age  \\\n",
       "0                             DysTop            windows             0   \n",
       "1                             Degica            windows             0   \n",
       "2                  Matt Bitner Games  windows;mac;linux             0   \n",
       "3                          Nyu Media      windows;linux             0   \n",
       "4  The Quantum Astrophysicists Guild  windows;mac;linux             0   \n",
       "\n",
       "                                          categories  \\\n",
       "0           Single-player;Partial Controller Support   \n",
       "1           Single-player;Partial Controller Support   \n",
       "2  Single-player;Local Co-op;Shared/Split Screen;...   \n",
       "3  Single-player;Steam Achievements;Steam Trading...   \n",
       "4  Single-player;Steam Achievements;Full controll...   \n",
       "\n",
       "                         genres              steamspy_tags  achievements  \\\n",
       "0                  Action;Indie         Action;Indie;Space             0   \n",
       "1                        Casual            Casual;VR;Anime             0   \n",
       "2     Violent;Gore;Action;Indie  Action;Metroidvania;Indie            60   \n",
       "3                  Action;Indie  Action;Indie;Shoot 'Em Up            53   \n",
       "4  Action;Casual;Indie;Strategy        Indie;Action;Casual            24   \n",
       "\n",
       "   positive_ratings  negative_ratings  average_playtime  median_playtime  \\\n",
       "0                 2                 2                 0                0   \n",
       "1                30                 4                 0                0   \n",
       "2               271                30               279              279   \n",
       "3                16                 0                 0                0   \n",
       "4                29                 1                 0                0   \n",
       "\n",
       "        owners  price  \n",
       "0      0-20000   2.89  \n",
       "1      0-20000   3.99  \n",
       "2  20000-50000  10.29  \n",
       "3      0-20000   4.79  \n",
       "4      0-20000   7.19  "
      ]
     },
     "execution_count": 424,
     "metadata": {},
     "output_type": "execute_result"
    }
   ],
   "source": [
    "df_train.head(5)"
   ]
  },
  {
   "cell_type": "code",
   "execution_count": 425,
   "metadata": {},
   "outputs": [
    {
     "data": {
      "text/plain": [
       "(25044, 18)"
      ]
     },
     "execution_count": 425,
     "metadata": {},
     "output_type": "execute_result"
    }
   ],
   "source": [
    "df_train.shape"
   ]
  },
  {
   "cell_type": "markdown",
   "metadata": {},
   "source": [
    "## Label Encoding"
   ]
  },
  {
   "cell_type": "code",
   "execution_count": 426,
   "metadata": {},
   "outputs": [],
   "source": [
    "le = LabelEncoder()\n",
    "\n",
    "df_train['name'] = le.fit_transform(df_train['name'])\n",
    "df_train['release_date'] = le.fit_transform(df_train['release_date'])\n",
    "df_train['developer'] = le.fit_transform(df_train['developer'])\n",
    "df_train['publisher'] = le.fit_transform(df_train['publisher'])\n",
    "df_train['platforms'] = le.fit_transform(df_train['platforms'])\n",
    "df_train['categories'] = le.fit_transform(df_train['categories'])\n",
    "df_train['genres'] = le.fit_transform(df_train['genres'])\n",
    "df_train['steamspy_tags'] = le.fit_transform(df_train['steamspy_tags'])\n",
    "df_train['owners'] = le.fit_transform(df_train['owners'])"
   ]
  },
  {
   "cell_type": "code",
   "execution_count": 427,
   "metadata": {},
   "outputs": [
    {
     "data": {
      "text/html": [
       "<div>\n",
       "<style scoped>\n",
       "    .dataframe tbody tr th:only-of-type {\n",
       "        vertical-align: middle;\n",
       "    }\n",
       "\n",
       "    .dataframe tbody tr th {\n",
       "        vertical-align: top;\n",
       "    }\n",
       "\n",
       "    .dataframe thead th {\n",
       "        text-align: right;\n",
       "    }\n",
       "</style>\n",
       "<table border=\"1\" class=\"dataframe\">\n",
       "  <thead>\n",
       "    <tr style=\"text-align: right;\">\n",
       "      <th></th>\n",
       "      <th>appid</th>\n",
       "      <th>name</th>\n",
       "      <th>release_date</th>\n",
       "      <th>english</th>\n",
       "      <th>developer</th>\n",
       "      <th>publisher</th>\n",
       "      <th>platforms</th>\n",
       "      <th>required_age</th>\n",
       "      <th>categories</th>\n",
       "      <th>genres</th>\n",
       "      <th>steamspy_tags</th>\n",
       "      <th>achievements</th>\n",
       "      <th>positive_ratings</th>\n",
       "      <th>negative_ratings</th>\n",
       "      <th>average_playtime</th>\n",
       "      <th>median_playtime</th>\n",
       "      <th>owners</th>\n",
       "      <th>price</th>\n",
       "    </tr>\n",
       "  </thead>\n",
       "  <tbody>\n",
       "    <tr>\n",
       "      <td>0</td>\n",
       "      <td>708830</td>\n",
       "      <td>20450</td>\n",
       "      <td>2001</td>\n",
       "      <td>1</td>\n",
       "      <td>3921</td>\n",
       "      <td>3287</td>\n",
       "      <td>3</td>\n",
       "      <td>0</td>\n",
       "      <td>2591</td>\n",
       "      <td>388</td>\n",
       "      <td>356</td>\n",
       "      <td>0</td>\n",
       "      <td>2</td>\n",
       "      <td>2</td>\n",
       "      <td>0</td>\n",
       "      <td>0</td>\n",
       "      <td>0</td>\n",
       "      <td>2.89</td>\n",
       "    </tr>\n",
       "    <tr>\n",
       "      <td>1</td>\n",
       "      <td>538000</td>\n",
       "      <td>9891</td>\n",
       "      <td>1911</td>\n",
       "      <td>1</td>\n",
       "      <td>7281</td>\n",
       "      <td>2889</td>\n",
       "      <td>3</td>\n",
       "      <td>0</td>\n",
       "      <td>2591</td>\n",
       "      <td>683</td>\n",
       "      <td>1747</td>\n",
       "      <td>0</td>\n",
       "      <td>30</td>\n",
       "      <td>4</td>\n",
       "      <td>0</td>\n",
       "      <td>0</td>\n",
       "      <td>0</td>\n",
       "      <td>3.99</td>\n",
       "    </tr>\n",
       "    <tr>\n",
       "      <td>2</td>\n",
       "      <td>603530</td>\n",
       "      <td>351</td>\n",
       "      <td>1980</td>\n",
       "      <td>1</td>\n",
       "      <td>8318</td>\n",
       "      <td>6955</td>\n",
       "      <td>6</td>\n",
       "      <td>0</td>\n",
       "      <td>799</td>\n",
       "      <td>1442</td>\n",
       "      <td>409</td>\n",
       "      <td>60</td>\n",
       "      <td>271</td>\n",
       "      <td>30</td>\n",
       "      <td>279</td>\n",
       "      <td>279</td>\n",
       "      <td>5</td>\n",
       "      <td>10.29</td>\n",
       "    </tr>\n",
       "    <tr>\n",
       "      <td>3</td>\n",
       "      <td>564040</td>\n",
       "      <td>24229</td>\n",
       "      <td>1789</td>\n",
       "      <td>1</td>\n",
       "      <td>333</td>\n",
       "      <td>7885</td>\n",
       "      <td>4</td>\n",
       "      <td>0</td>\n",
       "      <td>2932</td>\n",
       "      <td>388</td>\n",
       "      <td>350</td>\n",
       "      <td>53</td>\n",
       "      <td>16</td>\n",
       "      <td>0</td>\n",
       "      <td>0</td>\n",
       "      <td>0</td>\n",
       "      <td>0</td>\n",
       "      <td>4.79</td>\n",
       "    </tr>\n",
       "    <tr>\n",
       "      <td>4</td>\n",
       "      <td>951940</td>\n",
       "      <td>1015</td>\n",
       "      <td>2506</td>\n",
       "      <td>1</td>\n",
       "      <td>1881</td>\n",
       "      <td>11136</td>\n",
       "      <td>6</td>\n",
       "      <td>0</td>\n",
       "      <td>2772</td>\n",
       "      <td>307</td>\n",
       "      <td>2986</td>\n",
       "      <td>24</td>\n",
       "      <td>29</td>\n",
       "      <td>1</td>\n",
       "      <td>0</td>\n",
       "      <td>0</td>\n",
       "      <td>0</td>\n",
       "      <td>7.19</td>\n",
       "    </tr>\n",
       "  </tbody>\n",
       "</table>\n",
       "</div>"
      ],
      "text/plain": [
       "    appid   name  release_date  english  developer  publisher  platforms  \\\n",
       "0  708830  20450          2001        1       3921       3287          3   \n",
       "1  538000   9891          1911        1       7281       2889          3   \n",
       "2  603530    351          1980        1       8318       6955          6   \n",
       "3  564040  24229          1789        1        333       7885          4   \n",
       "4  951940   1015          2506        1       1881      11136          6   \n",
       "\n",
       "   required_age  categories  genres  steamspy_tags  achievements  \\\n",
       "0             0        2591     388            356             0   \n",
       "1             0        2591     683           1747             0   \n",
       "2             0         799    1442            409            60   \n",
       "3             0        2932     388            350            53   \n",
       "4             0        2772     307           2986            24   \n",
       "\n",
       "   positive_ratings  negative_ratings  average_playtime  median_playtime  \\\n",
       "0                 2                 2                 0                0   \n",
       "1                30                 4                 0                0   \n",
       "2               271                30               279              279   \n",
       "3                16                 0                 0                0   \n",
       "4                29                 1                 0                0   \n",
       "\n",
       "   owners  price  \n",
       "0       0   2.89  \n",
       "1       0   3.99  \n",
       "2       5  10.29  \n",
       "3       0   4.79  \n",
       "4       0   7.19  "
      ]
     },
     "execution_count": 427,
     "metadata": {},
     "output_type": "execute_result"
    }
   ],
   "source": [
    "df_train.head()"
   ]
  },
  {
   "cell_type": "code",
   "execution_count": 428,
   "metadata": {},
   "outputs": [],
   "source": [
    "df_test['name'] = le.fit_transform(df_test['name'])\n",
    "df_test['release_date'] = le.fit_transform(df_test['release_date'])\n",
    "df_test['developer'] = le.fit_transform(df_test['developer'])\n",
    "df_test['publisher'] = le.fit_transform(df_test['publisher'])\n",
    "df_test['platforms'] = le.fit_transform(df_test['platforms'])\n",
    "df_test['categories'] = le.fit_transform(df_test['categories'])\n",
    "df_test['genres'] = le.fit_transform(df_test['genres'])\n",
    "df_test['steamspy_tags'] = le.fit_transform(df_test['steamspy_tags'])\n",
    "df_test['owners'] = le.fit_transform(df_test['owners'])"
   ]
  },
  {
   "cell_type": "code",
   "execution_count": 429,
   "metadata": {},
   "outputs": [
    {
     "data": {
      "text/html": [
       "<div>\n",
       "<style scoped>\n",
       "    .dataframe tbody tr th:only-of-type {\n",
       "        vertical-align: middle;\n",
       "    }\n",
       "\n",
       "    .dataframe tbody tr th {\n",
       "        vertical-align: top;\n",
       "    }\n",
       "\n",
       "    .dataframe thead th {\n",
       "        text-align: right;\n",
       "    }\n",
       "</style>\n",
       "<table border=\"1\" class=\"dataframe\">\n",
       "  <thead>\n",
       "    <tr style=\"text-align: right;\">\n",
       "      <th></th>\n",
       "      <th>appid</th>\n",
       "      <th>name</th>\n",
       "      <th>release_date</th>\n",
       "      <th>english</th>\n",
       "      <th>developer</th>\n",
       "      <th>publisher</th>\n",
       "      <th>platforms</th>\n",
       "      <th>required_age</th>\n",
       "      <th>categories</th>\n",
       "      <th>genres</th>\n",
       "      <th>steamspy_tags</th>\n",
       "      <th>achievements</th>\n",
       "      <th>positive_ratings</th>\n",
       "      <th>negative_ratings</th>\n",
       "      <th>average_playtime</th>\n",
       "      <th>median_playtime</th>\n",
       "      <th>owners</th>\n",
       "      <th>price</th>\n",
       "    </tr>\n",
       "  </thead>\n",
       "  <tbody>\n",
       "    <tr>\n",
       "      <td>0</td>\n",
       "      <td>514520</td>\n",
       "      <td>1540</td>\n",
       "      <td>440</td>\n",
       "      <td>1</td>\n",
       "      <td>896</td>\n",
       "      <td>485</td>\n",
       "      <td>0</td>\n",
       "      <td>0</td>\n",
       "      <td>82</td>\n",
       "      <td>279</td>\n",
       "      <td>631</td>\n",
       "      <td>14</td>\n",
       "      <td>6</td>\n",
       "      <td>3</td>\n",
       "      <td>0</td>\n",
       "      <td>0</td>\n",
       "      <td>0</td>\n",
       "      <td>0.99</td>\n",
       "    </tr>\n",
       "    <tr>\n",
       "      <td>1</td>\n",
       "      <td>1012710</td>\n",
       "      <td>577</td>\n",
       "      <td>1074</td>\n",
       "      <td>1</td>\n",
       "      <td>1312</td>\n",
       "      <td>1173</td>\n",
       "      <td>0</td>\n",
       "      <td>0</td>\n",
       "      <td>193</td>\n",
       "      <td>89</td>\n",
       "      <td>362</td>\n",
       "      <td>0</td>\n",
       "      <td>0</td>\n",
       "      <td>1</td>\n",
       "      <td>88</td>\n",
       "      <td>88</td>\n",
       "      <td>0</td>\n",
       "      <td>7.19</td>\n",
       "    </tr>\n",
       "    <tr>\n",
       "      <td>2</td>\n",
       "      <td>279260</td>\n",
       "      <td>1353</td>\n",
       "      <td>145</td>\n",
       "      <td>1</td>\n",
       "      <td>1135</td>\n",
       "      <td>1005</td>\n",
       "      <td>0</td>\n",
       "      <td>0</td>\n",
       "      <td>514</td>\n",
       "      <td>174</td>\n",
       "      <td>193</td>\n",
       "      <td>21</td>\n",
       "      <td>264</td>\n",
       "      <td>99</td>\n",
       "      <td>332</td>\n",
       "      <td>332</td>\n",
       "      <td>7</td>\n",
       "      <td>4.79</td>\n",
       "    </tr>\n",
       "    <tr>\n",
       "      <td>3</td>\n",
       "      <td>220090</td>\n",
       "      <td>1699</td>\n",
       "      <td>80</td>\n",
       "      <td>1</td>\n",
       "      <td>1408</td>\n",
       "      <td>1259</td>\n",
       "      <td>3</td>\n",
       "      <td>0</td>\n",
       "      <td>539</td>\n",
       "      <td>174</td>\n",
       "      <td>215</td>\n",
       "      <td>0</td>\n",
       "      <td>902</td>\n",
       "      <td>129</td>\n",
       "      <td>303</td>\n",
       "      <td>327</td>\n",
       "      <td>5</td>\n",
       "      <td>5.99</td>\n",
       "    </tr>\n",
       "    <tr>\n",
       "      <td>4</td>\n",
       "      <td>788870</td>\n",
       "      <td>843</td>\n",
       "      <td>884</td>\n",
       "      <td>1</td>\n",
       "      <td>1761</td>\n",
       "      <td>1569</td>\n",
       "      <td>0</td>\n",
       "      <td>0</td>\n",
       "      <td>414</td>\n",
       "      <td>53</td>\n",
       "      <td>423</td>\n",
       "      <td>0</td>\n",
       "      <td>6</td>\n",
       "      <td>11</td>\n",
       "      <td>0</td>\n",
       "      <td>0</td>\n",
       "      <td>0</td>\n",
       "      <td>7.19</td>\n",
       "    </tr>\n",
       "  </tbody>\n",
       "</table>\n",
       "</div>"
      ],
      "text/plain": [
       "     appid  name  release_date  english  developer  publisher  platforms  \\\n",
       "0   514520  1540           440        1        896        485          0   \n",
       "1  1012710   577          1074        1       1312       1173          0   \n",
       "2   279260  1353           145        1       1135       1005          0   \n",
       "3   220090  1699            80        1       1408       1259          3   \n",
       "4   788870   843           884        1       1761       1569          0   \n",
       "\n",
       "   required_age  categories  genres  steamspy_tags  achievements  \\\n",
       "0             0          82     279            631            14   \n",
       "1             0         193      89            362             0   \n",
       "2             0         514     174            193            21   \n",
       "3             0         539     174            215             0   \n",
       "4             0         414      53            423             0   \n",
       "\n",
       "   positive_ratings  negative_ratings  average_playtime  median_playtime  \\\n",
       "0                 6                 3                 0                0   \n",
       "1                 0                 1                88               88   \n",
       "2               264                99               332              332   \n",
       "3               902               129               303              327   \n",
       "4                 6                11                 0                0   \n",
       "\n",
       "   owners  price  \n",
       "0       0   0.99  \n",
       "1       0   7.19  \n",
       "2       7   4.79  \n",
       "3       5   5.99  \n",
       "4       0   7.19  "
      ]
     },
     "execution_count": 429,
     "metadata": {},
     "output_type": "execute_result"
    }
   ],
   "source": [
    "df_test.head()"
   ]
  },
  {
   "cell_type": "markdown",
   "metadata": {},
   "source": [
    "## Data Preparation"
   ]
  },
  {
   "cell_type": "code",
   "execution_count": 430,
   "metadata": {},
   "outputs": [
    {
     "data": {
      "text/plain": [
       "(25044, 18)"
      ]
     },
     "execution_count": 430,
     "metadata": {},
     "output_type": "execute_result"
    }
   ],
   "source": [
    "df_train.shape"
   ]
  },
  {
   "cell_type": "code",
   "execution_count": 431,
   "metadata": {},
   "outputs": [],
   "source": [
    "df_train = df_train.drop(['platforms','required_age','english'],axis=1)"
   ]
  },
  {
   "cell_type": "code",
   "execution_count": 432,
   "metadata": {},
   "outputs": [
    {
     "data": {
      "text/plain": [
       "(25044, 15)"
      ]
     },
     "execution_count": 432,
     "metadata": {},
     "output_type": "execute_result"
    }
   ],
   "source": [
    "df_train.shape"
   ]
  },
  {
   "cell_type": "code",
   "execution_count": 433,
   "metadata": {},
   "outputs": [],
   "source": [
    "x_train = df_train.iloc[:,0:15].values\n",
    "y_train = df_train.iloc[:,-1].values"
   ]
  },
  {
   "cell_type": "code",
   "execution_count": 434,
   "metadata": {},
   "outputs": [
    {
     "data": {
      "text/plain": [
       "array([7.0883e+05, 2.0450e+04, 2.0010e+03, 3.9210e+03, 3.2870e+03,\n",
       "       2.5910e+03, 3.8800e+02, 3.5600e+02, 0.0000e+00, 2.0000e+00,\n",
       "       2.0000e+00, 0.0000e+00, 0.0000e+00, 0.0000e+00, 2.8900e+00])"
      ]
     },
     "execution_count": 434,
     "metadata": {},
     "output_type": "execute_result"
    }
   ],
   "source": [
    "x_train[0]"
   ]
  },
  {
   "cell_type": "code",
   "execution_count": 435,
   "metadata": {},
   "outputs": [],
   "source": [
    "df_test = df_test.drop(['platforms','required_age','english'],axis=1)"
   ]
  },
  {
   "cell_type": "code",
   "execution_count": 436,
   "metadata": {},
   "outputs": [],
   "source": [
    "x_test = df_test.iloc[:,0:15].values\n",
    "y_test = df_test.iloc[:,-1].values"
   ]
  },
  {
   "cell_type": "code",
   "execution_count": 437,
   "metadata": {},
   "outputs": [
    {
     "data": {
      "text/plain": [
       "(2031, 15)"
      ]
     },
     "execution_count": 437,
     "metadata": {},
     "output_type": "execute_result"
    }
   ],
   "source": [
    "x_test.shape"
   ]
  },
  {
   "cell_type": "code",
   "execution_count": 438,
   "metadata": {},
   "outputs": [],
   "source": [
    "x_id = x_test[:,0]"
   ]
  },
  {
   "cell_type": "code",
   "execution_count": 439,
   "metadata": {},
   "outputs": [],
   "source": [
    "from sklearn.preprocessing import StandardScaler"
   ]
  },
  {
   "cell_type": "code",
   "execution_count": 440,
   "metadata": {},
   "outputs": [],
   "source": [
    "scaler = StandardScaler()"
   ]
  },
  {
   "cell_type": "code",
   "execution_count": 441,
   "metadata": {},
   "outputs": [
    {
     "data": {
      "text/plain": [
       "array([2.51416564e+05, 7.21968234e+03, 5.60011657e+02, 4.65297790e+03,\n",
       "       3.93787319e+03, 1.04041050e+03, 3.62010836e+02, 1.74473756e+03,\n",
       "       3.50991225e+02, 1.95622746e+04, 4.44773611e+03, 1.78300303e+03,\n",
       "       2.11457302e+03, 3.01164148e+00, 7.28440662e+00])"
      ]
     },
     "execution_count": 441,
     "metadata": {},
     "output_type": "execute_result"
    }
   ],
   "source": [
    "scaler.fit(x_train)\n",
    "scaler.transform(x_train)\n",
    "scaler.transform(x_test)\n",
    "x_train.std(axis=0)"
   ]
  },
  {
   "cell_type": "code",
   "execution_count": 442,
   "metadata": {},
   "outputs": [],
   "source": [
    "## Normalisation\n",
    "#x_mean = x_train.mean(axis=0)\n",
    "#x_std = x_train.std(axis=0)\n",
    "\n",
    "#Apply the transformation\n",
    "#x_train = (x_train-x_mean)/x_std\n",
    "\n",
    "#x_test = (x_test-x_mean)/x_std"
   ]
  },
  {
   "cell_type": "code",
   "execution_count": 443,
   "metadata": {},
   "outputs": [
    {
     "data": {
      "text/plain": [
       "array([2.51416564e+05, 7.21968234e+03, 5.60011657e+02, 4.65297790e+03,\n",
       "       3.93787319e+03, 1.04041050e+03, 3.62010836e+02, 1.74473756e+03,\n",
       "       3.50991225e+02, 1.95622746e+04, 4.44773611e+03, 1.78300303e+03,\n",
       "       2.11457302e+03, 3.01164148e+00, 7.28440662e+00])"
      ]
     },
     "execution_count": 443,
     "metadata": {},
     "output_type": "execute_result"
    }
   ],
   "source": [
    "x_train.std(axis=0)"
   ]
  },
  {
   "cell_type": "markdown",
   "metadata": {},
   "source": [
    "## Linear Regression"
   ]
  },
  {
   "cell_type": "code",
   "execution_count": 444,
   "metadata": {},
   "outputs": [],
   "source": [
    "from sklearn.linear_model import LinearRegression\n",
    "from sklearn.metrics import r2_score\n",
    "from sklearn.metrics import mean_squared_error\n",
    "#from sklearn.tree import DecisionTreeRegressor\n",
    "#from sklearn import ensemble\n",
    "#from sklearn.ensemble import RandomForestRegressor\n",
    "#from sklearn.ensemble import GradientBoostingRegressor\n",
    "#from sklearn.neighbors import KNeighborsRegressor\n",
    "#from sklearn.linear_model import ElasticNet\n",
    "#from sklearn.linear_model import Lasso"
   ]
  },
  {
   "cell_type": "code",
   "execution_count": 445,
   "metadata": {},
   "outputs": [],
   "source": [
    "model = LinearRegression()\n",
    "#dtree = DecisionTreeRegressor()\n",
    "#rfr = RandomForestRegressor()\n",
    "#boost = GradientBoostingRegressor()"
   ]
  },
  {
   "cell_type": "code",
   "execution_count": 446,
   "metadata": {},
   "outputs": [],
   "source": [
    "#reg = ensemble.GradientBoostingRegressor(**params)\n",
    "#reg.fit(x_train, y_train)"
   ]
  },
  {
   "cell_type": "code",
   "execution_count": 452,
   "metadata": {},
   "outputs": [
    {
     "data": {
      "text/plain": [
       "LinearRegression(copy_X=True, fit_intercept=True, n_jobs=None, normalize=False)"
      ]
     },
     "execution_count": 452,
     "metadata": {},
     "output_type": "execute_result"
    }
   ],
   "source": [
    "model.fit(x_train,y_train)"
   ]
  },
  {
   "cell_type": "code",
   "execution_count": 454,
   "metadata": {},
   "outputs": [],
   "source": [
    "y_model = model.predict(x_test)"
   ]
  },
  {
   "cell_type": "code",
   "execution_count": 455,
   "metadata": {},
   "outputs": [
    {
     "data": {
      "text/plain": [
       "1.0"
      ]
     },
     "execution_count": 455,
     "metadata": {},
     "output_type": "execute_result"
    }
   ],
   "source": [
    "model.score(x_train,y_train)"
   ]
  },
  {
   "cell_type": "code",
   "execution_count": 456,
   "metadata": {},
   "outputs": [
    {
     "data": {
      "text/plain": [
       "5.2144305463177567e-14"
      ]
     },
     "execution_count": 456,
     "metadata": {},
     "output_type": "execute_result"
    }
   ],
   "source": [
    "np.sqrt(mean_squared_error(y_model,y_test))"
   ]
  },
  {
   "cell_type": "code",
   "execution_count": null,
   "metadata": {},
   "outputs": [],
   "source": []
  },
  {
   "cell_type": "markdown",
   "metadata": {},
   "source": [
    "## Conversion Final"
   ]
  },
  {
   "cell_type": "code",
   "execution_count": 457,
   "metadata": {},
   "outputs": [],
   "source": [
    "df_ = pd.DataFrame({'appid':x_id,'price':y_model})\n",
    "df_ = df_.astype({'appid':int})\n",
    "df_.to_csv('submission_Game.csv',index=False)"
   ]
  },
  {
   "cell_type": "code",
   "execution_count": null,
   "metadata": {},
   "outputs": [],
   "source": []
  }
 ],
 "metadata": {
  "kernelspec": {
   "display_name": "Python 3",
   "language": "python",
   "name": "python3"
  },
  "language_info": {
   "codemirror_mode": {
    "name": "ipython",
    "version": 3
   },
   "file_extension": ".py",
   "mimetype": "text/x-python",
   "name": "python",
   "nbconvert_exporter": "python",
   "pygments_lexer": "ipython3",
   "version": "3.7.4"
  }
 },
 "nbformat": 4,
 "nbformat_minor": 2
}
